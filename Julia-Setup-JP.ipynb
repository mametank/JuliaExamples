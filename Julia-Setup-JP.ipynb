{
 "cells": [
  {
   "cell_type": "markdown",
   "metadata": {},
   "source": [
    "# Juliaセットアップと基本的な機能"
   ]
  },
  {
   "cell_type": "markdown",
   "metadata": {},
   "source": [
    "## インストール\n",
    "\n",
    "[公式サイト](https://julialang.org/downloads/)からバイナリをダウンロードし、インストーラーの指示に従ってセットアップを完了する。Windows 7の場合、追加でEasy Fixのインストールが必要になる（[Microsoftの公式サイト](https://support.microsoft.com/en-us/help/3140245/update-to-enable-tls-1-1-and-tls-1-2-as-a-default-secure-protocols-in)からダウンロードできる）。"
   ]
  },
  {
   "cell_type": "markdown",
   "metadata": {},
   "source": [
    "## 起動と終了\n",
    "\n",
    "Juliaのアイコンをダブルクリックして起動する。以下のバナーが表示される。\n",
    "\n",
    "                    _\n",
    "        _       _ _(_)_     |  A fresh approach to technical computing\n",
    "       (_)     | (_) (_)    |  Documentation: https://docs.julialang.org\n",
    "        _ _   _| |_  __ _   |  Type \"?help\" for help.\n",
    "       | | | | | | |/ _` |  |\n",
    "       | | |_| | | | (_| |  |  Version 0.6.2 (2017-12-13 18:08 UTC)\n",
    "      _/ |\\__'_|_|_|\\__'_|  |  Official http://julialang.org/ release\n",
    "     |__/                   |  x86_64-apple-darwin14.5.0\n",
    "\n",
    "     julia>\n",
    "\n",
    "ここで `julia>` はコマンドプロンプトである。\n",
    "\n",
    "Juliaを終了するには、プロンプト上で `quit()` と入力する。\n",
    "カッコをつけることに注意せよ。"
   ]
  },
  {
   "cell_type": "markdown",
   "metadata": {},
   "source": [
    "## パッケージ\n",
    "\n",
    "Juliaの機能の多くは、パッケージとして提供されている。インストール直後のJuliaには、いくつかの主要なパッケージが添付されている。それ以外のパッケージは、公式サイトに登録され、インターネットを通じてダウンロードできる。パッケージは利用前にインストールする必要がある。インストール作業は、一度だけでよい。\n",
    "\n",
    "### インストール\n",
    "\n",
    "#### 登録パッケージ\n",
    "\n",
    "もしパッケージが公式サイトに登録されているなら、Julia上で `pkg.add()` コマンドを使ってインストールする。これは、パッケージをダウンロードし、適切な場所に展開する。以下の例は、`Lint` パッケージをインストールする。\n",
    "\n",
    "    julia> Pkg.add(\"Lint\")\n",
    "\n",
    "Juliaは、コマンドの大文字と小文字を区別するので、入力ミスに注意する。上のコマンドは、最初の P と文字列中の L が大文字で、残りは小文字である。\n",
    "\n",
    "#### 非登録だがGithub上に公開されているパッケージ\n",
    "\n",
    "もしパッケージが登録されていないが、Github上に公開されているなら、そのURLを指定すればインストール可能である。この場合、`Pkg.clone()` を利用する。以下の例は `PkgSearch` をインストールする。\n",
    "\n",
    "    julia> Pkg.clone(\"https://github.com/essenciary/PkgSearch\")\n",
    "\n",
    "#### 非登録でGithub上にもないパッケージ\n",
    "\n",
    "パッケージをファイルとして受け取った場合、以下の手順で手作業でインストールする。\n",
    "\n",
    "1. `Pkg.dir()` を入力し、パッケージのインストール場所を確認する。その場所は、デフォルトで `~/.julia/v0.x` であり、`v0.x` はバージョン番号である。最新版の version 0.6.2 ならば、この場所は `~/.julia/v0.6` となる（最初の2つの数字のみが必要）。\n",
    "2. この場所に、パッケージと同じ名前のディレクトリを作る。たとえば、`GenomicHMRT` というパッケージをインストールするなら、フルパスは `~/.julia/v0.6/GenomicHMRT` となる。\n",
    "3. このディレクトリ以下に、すべてのファイルとディレクトリをコピーする。典型的なパッケージは `~/.julia/v0.6/GenomicHMRT/src` と `~/.julia/v0.6/GenomicHMRT/test` を備えている。\n",
    "\n",
    "### パッケージの呼び出し\n",
    "\n",
    "インストールしたパッケージは、`using` で呼び出す。下の例は `GenomicHMRT` パッケージを呼び出す。\n",
    "\n",
    "    using GenomicHMRT"
   ]
  },
  {
   "cell_type": "markdown",
   "metadata": {},
   "source": [
    "## Juliaコマンドラインの使い方\n",
    "\n",
    "Juliaのコマンドライン（REPLと言われる）には、有用な幾つかの機能がある。\n",
    "\n",
    "### 行編集モード\n",
    "\n",
    "コマンド行は、Bashのコマンドラインに似た編集機能をもつ。\n",
    "Tabキーによる補完、矢印キーによる履歴呼び出しも使える。\n",
    "\n",
    "### ヘルプ\n",
    "\n",
    "プロンプト上で `?` キーを押すと、表示が変わり、ヘルプモードになる。続けてコマンド名を入力すると、そのコマンドの使い方が表示される。以下の例は `Pkg` パッケージ全体の使い方を表示している。"
   ]
  },
  {
   "cell_type": "code",
   "execution_count": 1,
   "metadata": {},
   "outputs": [
    {
     "name": "stdout",
     "output_type": "stream",
     "text": [
      "search: \u001b[1mP\u001b[22m\u001b[1mk\u001b[22m\u001b[1mg\u001b[22m\n",
      "\n"
     ]
    },
    {
     "data": {
      "text/markdown": [
       "```\n",
       "Pkg\n",
       "```\n",
       "\n",
       "The `Pkg` module provides package management for Julia. Use `Pkg.status()` for a list of installed packages, `Pkg.add(\"<pkg name>\")` to add a package, `Pkg.update()` to update the installed packages.\n",
       "\n",
       "Please see the manual section on packages for more information.\n"
      ],
      "text/plain": [
       "```\n",
       "Pkg\n",
       "```\n",
       "\n",
       "The `Pkg` module provides package management for Julia. Use `Pkg.status()` for a list of installed packages, `Pkg.add(\"<pkg name>\")` to add a package, `Pkg.update()` to update the installed packages.\n",
       "\n",
       "Please see the manual section on packages for more information.\n"
      ]
     },
     "execution_count": 1,
     "metadata": {},
     "output_type": "execute_result"
    }
   ],
   "source": [
    "?Pkg"
   ]
  },
  {
   "cell_type": "markdown",
   "metadata": {},
   "source": [
    "具体的な機能（関数）の使い方を表示することもできる。"
   ]
  },
  {
   "cell_type": "code",
   "execution_count": 2,
   "metadata": {},
   "outputs": [
    {
     "data": {
      "text/markdown": [
       "```\n",
       "add(pkg, vers...)\n",
       "```\n",
       "\n",
       "Add a requirement entry for `pkg` to `Pkg.dir(\"REQUIRE\")` and call `Pkg.resolve()`. If `vers` are given, they must be `VersionNumber` objects and they specify acceptable version intervals for `pkg`.\n"
      ],
      "text/plain": [
       "```\n",
       "add(pkg, vers...)\n",
       "```\n",
       "\n",
       "Add a requirement entry for `pkg` to `Pkg.dir(\"REQUIRE\")` and call `Pkg.resolve()`. If `vers` are given, they must be `VersionNumber` objects and they specify acceptable version intervals for `pkg`.\n"
      ]
     },
     "execution_count": 2,
     "metadata": {},
     "output_type": "execute_result"
    }
   ],
   "source": [
    "?Pkg.add"
   ]
  },
  {
   "cell_type": "markdown",
   "metadata": {},
   "source": [
    "### シェルコマンドの実行\n",
    "\n",
    "プロンプト上で `;` を押すと、表示が変わり、シェル上のコマンドを実行できる。以下の例は、`ls` コマンドを実行している。"
   ]
  },
  {
   "cell_type": "code",
   "execution_count": 3,
   "metadata": {},
   "outputs": [
    {
     "name": "stdout",
     "output_type": "stream",
     "text": [
      "Julia-Setup-JP.ipynb\n"
     ]
    }
   ],
   "source": [
    ";ls"
   ]
  }
 ],
 "metadata": {
  "kernelspec": {
   "display_name": "Julia 0.6.2",
   "language": "julia",
   "name": "julia-0.6"
  },
  "language_info": {
   "file_extension": ".jl",
   "mimetype": "application/julia",
   "name": "julia",
   "version": "0.6.2"
  }
 },
 "nbformat": 4,
 "nbformat_minor": 2
}
