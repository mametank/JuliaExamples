{
 "cells": [
  {
   "cell_type": "markdown",
   "metadata": {
    "deletable": true,
    "editable": true
   },
   "source": [
    "# データ構造\n",
    "\n",
    "すでに、[非常によくまとまった入門ガイド](https://github.com/bicycle1885/Julia-Tutorial/blob/master/Julia高速チュートリアル.ipynb)があるので、詳細はそちらを参照して欲しい。\n",
    "ここでは、他の言語から移行する際に留意すべき点のみを記す。\n",
    "\n",
    "## スカラ\n",
    "\n",
    "スカラは単一のデータである（Juliaではスカラとは言わず、単一オブジェクトと呼ぶ）。\n",
    "代表的なスカラは、数値、文字、文字列である。\n",
    "\n",
    "### 数値\n",
    "\n",
    "整数、浮動小数点数、複素数が利用できる。\n",
    "ここでは整数と浮動小数点のみを扱う。\n",
    "Juliaは、小数点なしの数値を整数、小数点付きを浮動小数点数として扱う。"
   ]
  },
  {
   "cell_type": "code",
   "execution_count": 1,
   "metadata": {
    "collapsed": false,
    "deletable": true,
    "editable": true
   },
   "outputs": [
    {
     "data": {
      "text/plain": [
       "36"
      ]
     },
     "execution_count": 1,
     "metadata": {},
     "output_type": "execute_result"
    }
   ],
   "source": [
    "# 整数型\n",
    "(1+5)*6"
   ]
  },
  {
   "cell_type": "code",
   "execution_count": 2,
   "metadata": {
    "collapsed": false,
    "deletable": true,
    "editable": true
   },
   "outputs": [
    {
     "data": {
      "text/plain": [
       "36.0"
      ]
     },
     "execution_count": 2,
     "metadata": {},
     "output_type": "execute_result"
    }
   ],
   "source": [
    "# 浮動小数点数\n",
    "(1.0+5.0)*6.0"
   ]
  },
  {
   "cell_type": "markdown",
   "metadata": {
    "deletable": true,
    "editable": true
   },
   "source": [
    "数値を変数に代入できる。\n",
    "その場合、変数も型を持つ。\n",
    "変数の大文字と小文字は区別される。"
   ]
  },
  {
   "cell_type": "code",
   "execution_count": 3,
   "metadata": {
    "collapsed": false,
    "deletable": true,
    "editable": true
   },
   "outputs": [
    {
     "data": {
      "text/plain": [
       "1"
      ]
     },
     "execution_count": 3,
     "metadata": {},
     "output_type": "execute_result"
    }
   ],
   "source": [
    "# 整数の代入\n",
    "a = 1"
   ]
  },
  {
   "cell_type": "code",
   "execution_count": 4,
   "metadata": {
    "collapsed": false,
    "deletable": true,
    "editable": true
   },
   "outputs": [
    {
     "data": {
      "text/plain": [
       "1.0"
      ]
     },
     "execution_count": 4,
     "metadata": {},
     "output_type": "execute_result"
    }
   ],
   "source": [
    "# 浮動小数点の代入\n",
    "b = 1.0"
   ]
  },
  {
   "cell_type": "markdown",
   "metadata": {
    "deletable": true,
    "editable": true
   },
   "source": [
    "それぞれの数値には、精度を規定する型がある。\n",
    "デフォルトの整数型は`Int`（32ビットOSでは`Int32`、64ビットOSでは`Int64`）であり、浮動小数点型は`Float64`（倍精度実数）である。\n",
    "とくに指示なく数値を利用するときは、この精度が自動的に使われる。\n",
    "あるスカラの型をチェックするには `typeof()` 関数を使う。"
   ]
  },
  {
   "cell_type": "code",
   "execution_count": 5,
   "metadata": {
    "collapsed": false,
    "deletable": true,
    "editable": true
   },
   "outputs": [
    {
     "data": {
      "text/plain": [
       "Int64"
      ]
     },
     "execution_count": 5,
     "metadata": {},
     "output_type": "execute_result"
    }
   ],
   "source": [
    "# 整数型のチェック\n",
    "typeof(1)"
   ]
  },
  {
   "cell_type": "code",
   "execution_count": 6,
   "metadata": {
    "collapsed": false,
    "deletable": true,
    "editable": true
   },
   "outputs": [
    {
     "data": {
      "text/plain": [
       "Float64"
      ]
     },
     "execution_count": 6,
     "metadata": {},
     "output_type": "execute_result"
    }
   ],
   "source": [
    "# 浮動小数点数型のチェック\n",
    "typeof(1.0)"
   ]
  },
  {
   "cell_type": "markdown",
   "metadata": {
    "deletable": true,
    "editable": true
   },
   "source": [
    "### 文字\n",
    "\n",
    "Julia文字は、1つの文字や記号のみを意味する。\n",
    "通常、文字を連ねた「文字列」を扱うが、文字はその構成単位である。\n",
    "Juliaでは、シングルクーテーション `'` で囲んだ領域がUnicode文字として扱われる。"
   ]
  },
  {
   "cell_type": "code",
   "execution_count": 7,
   "metadata": {
    "collapsed": false,
    "deletable": true,
    "editable": true
   },
   "outputs": [
    {
     "data": {
      "text/plain": [
       "'x': ASCII/Unicode U+0078 (category Ll: Letter, lowercase)"
      ]
     },
     "execution_count": 7,
     "metadata": {},
     "output_type": "execute_result"
    }
   ],
   "source": [
    "# 1個の x という文字\n",
    "'x'"
   ]
  },
  {
   "cell_type": "markdown",
   "metadata": {
    "deletable": true,
    "editable": true
   },
   "source": [
    "文字の型名は `Char` である。"
   ]
  },
  {
   "cell_type": "code",
   "execution_count": 8,
   "metadata": {
    "collapsed": false,
    "deletable": true,
    "editable": true
   },
   "outputs": [
    {
     "data": {
      "text/plain": [
       "Char"
      ]
     },
     "execution_count": 8,
     "metadata": {},
     "output_type": "execute_result"
    }
   ],
   "source": [
    "# 文字型のチェック\n",
    "typeof('x')"
   ]
  },
  {
   "cell_type": "markdown",
   "metadata": {
    "deletable": true,
    "editable": true
   },
   "source": [
    "### 文字列\n",
    "\n",
    "複数の文字が1列に連なったものを文字列という。\n",
    "ダブルクオーテーション `\"` で囲まれた領域が文字列として扱われる。"
   ]
  },
  {
   "cell_type": "code",
   "execution_count": 9,
   "metadata": {
    "collapsed": false,
    "deletable": true,
    "editable": true
   },
   "outputs": [
    {
     "data": {
      "text/plain": [
       "\"abcde\""
      ]
     },
     "execution_count": 9,
     "metadata": {},
     "output_type": "execute_result"
    }
   ],
   "source": [
    "\"abcde\""
   ]
  },
  {
   "cell_type": "markdown",
   "metadata": {
    "deletable": true,
    "editable": true
   },
   "source": [
    "文字列の型名は `String` である。"
   ]
  },
  {
   "cell_type": "code",
   "execution_count": 10,
   "metadata": {
    "collapsed": false,
    "deletable": true,
    "editable": true
   },
   "outputs": [
    {
     "data": {
      "text/plain": [
       "String"
      ]
     },
     "execution_count": 10,
     "metadata": {},
     "output_type": "execute_result"
    }
   ],
   "source": [
    "# 文字列型のチェック\n",
    "typeof(\"abcde\")"
   ]
  },
  {
   "cell_type": "markdown",
   "metadata": {
    "deletable": true,
    "editable": true
   },
   "source": [
    "文字列の各要素を読み出すには `[]` を利用する。\n",
    "このカッコの中に、呼び出したい文字の位置を入れる（この位置は 1 からスタートする）。\n",
    "切り出した結果は文字である（文字列ではない）。"
   ]
  },
  {
   "cell_type": "code",
   "execution_count": 11,
   "metadata": {
    "collapsed": false,
    "deletable": true,
    "editable": true
   },
   "outputs": [
    {
     "data": {
      "text/plain": [
       "'c': ASCII/Unicode U+0063 (category Ll: Letter, lowercase)"
      ]
     },
     "execution_count": 11,
     "metadata": {},
     "output_type": "execute_result"
    }
   ],
   "source": [
    "# 3文字目を切り出す\n",
    "\"abcde\"[3]"
   ]
  },
  {
   "cell_type": "markdown",
   "metadata": {
    "deletable": true,
    "editable": true
   },
   "source": [
    "切り出した部分を文字列として扱うには、`[]` の中に範囲を記入する。\n",
    "範囲は `開始位置:終了位置` で規定する。\n",
    "末尾を意味する特殊なキーワードとして `end` が利用できる。\n",
    "範囲を省略し、`:`のみを使うと、全部の要素を指定することになる（`1:end`と同じ）。\n",
    "以下の例を参照のこと。"
   ]
  },
  {
   "cell_type": "code",
   "execution_count": 12,
   "metadata": {
    "collapsed": false,
    "deletable": true,
    "editable": true
   },
   "outputs": [
    {
     "data": {
      "text/plain": [
       "\"c\""
      ]
     },
     "execution_count": 12,
     "metadata": {},
     "output_type": "execute_result"
    }
   ],
   "source": [
    "# 結果は文字列になる\n",
    "\"abcde\"[3:3]"
   ]
  },
  {
   "cell_type": "code",
   "execution_count": 13,
   "metadata": {
    "collapsed": false,
    "deletable": true,
    "editable": true
   },
   "outputs": [
    {
     "data": {
      "text/plain": [
       "\"cde\""
      ]
     },
     "execution_count": 13,
     "metadata": {},
     "output_type": "execute_result"
    }
   ],
   "source": [
    "# 3文字目から5文字目までを取り出す\n",
    "\"abcde\"[3:5]"
   ]
  },
  {
   "cell_type": "code",
   "execution_count": 14,
   "metadata": {
    "collapsed": false,
    "deletable": true,
    "editable": true
   },
   "outputs": [
    {
     "data": {
      "text/plain": [
       "\"cde\""
      ]
     },
     "execution_count": 14,
     "metadata": {},
     "output_type": "execute_result"
    }
   ],
   "source": [
    "# もちろん変数に対しても処理できる\n",
    "s = \"abcde\"\n",
    "s[3:5]"
   ]
  },
  {
   "cell_type": "code",
   "execution_count": 15,
   "metadata": {
    "collapsed": false,
    "deletable": true,
    "editable": true
   },
   "outputs": [
    {
     "data": {
      "text/plain": [
       "\"cde\""
      ]
     },
     "execution_count": 15,
     "metadata": {},
     "output_type": "execute_result"
    }
   ],
   "source": [
    "# 最後の要素を意味する end が使える\n",
    "s = \"abcde\"\n",
    "s[3:end]"
   ]
  },
  {
   "cell_type": "markdown",
   "metadata": {
    "deletable": true,
    "editable": true
   },
   "source": [
    "文字列の処理は、後述する配列（ベクトル）の処理とほぼ同じである。"
   ]
  },
  {
   "cell_type": "markdown",
   "metadata": {
    "deletable": true,
    "editable": true
   },
   "source": [
    "### スカラのまとめ\n",
    "\n",
    "* 代表的なスカラ（単一オブジェクト）には、整数、浮動小数点、文字、文字列がある。\n",
    "* 整数のデフォルト型は`Int`、浮動小数点のデフォルト型は`Float64`である。また、文字型は`Char`、文字列型は`String`である。\n",
    "* スカラは変数に代入できる。その変数も、もとのスカラの型を引き継ぐ。\n",
    "* 型をチェックするには `typeof()` 関数を利用する。\n",
    "* 文字列から文字を取り出すには、文字列の末尾に `[]` を配置し、その中に位置番号を入れる（1からスタート）。得られるのは `Char` 型の文字である。\n",
    "* 文字列から文字を取り出すには、`[]`内に範囲を記入する。範囲は `開始位置:終了位置` とする。1文字だけ取り出し、それを文字列にするには `開始位置:開始位置` とする。\n",
    "* この`[]`内では、文字列の末尾の位置を意味する特殊キーワードの `end` が利用できる。\n",
    "* 開始と終了位置を省略して `:` のみを使うと、全部の要素を指定することになる（`1:end`）。"
   ]
  },
  {
   "cell_type": "markdown",
   "metadata": {
    "deletable": true,
    "editable": true
   },
   "source": [
    "## 配列\n",
    "\n",
    "配列は、いくつかのスカラをひとまとまりにしたデータ構造である。\n",
    "ここでは、1次元の配列をベクトル、2次元の配列を行列と呼ぶ。\n",
    "配列には、実際にはどのようなデータ構造をも含めることができる。\n",
    "たとえば、文字列のベクトル、ベクトルのベクトル、ベクトルの行列も作ることができる。\n",
    "ここでは、単純に数値と文字列の配列のみを考慮する。\n",
    "\n",
    "### ベクトル\n",
    "\n",
    "ベクトルを作るには、要素をカンマ（`,`）で列挙して `[]` でくくる。 "
   ]
  },
  {
   "cell_type": "code",
   "execution_count": 16,
   "metadata": {
    "collapsed": false,
    "deletable": true,
    "editable": true
   },
   "outputs": [
    {
     "data": {
      "text/plain": [
       "3-element Array{Int64,1}:\n",
       " 1\n",
       " 2\n",
       " 3"
      ]
     },
     "execution_count": 16,
     "metadata": {},
     "output_type": "execute_result"
    }
   ],
   "source": [
    "# 整数型のベクトル\n",
    "a = [1, 2, 3]"
   ]
  },
  {
   "cell_type": "code",
   "execution_count": 17,
   "metadata": {
    "collapsed": false,
    "deletable": true,
    "editable": true
   },
   "outputs": [
    {
     "data": {
      "text/plain": [
       "3-element Array{Float64,1}:\n",
       " 1.0\n",
       " 2.0\n",
       " 3.0"
      ]
     },
     "execution_count": 17,
     "metadata": {},
     "output_type": "execute_result"
    }
   ],
   "source": [
    "# 浮動小数点型のベクトル（整数と混合すると浮動小数点に揃えられる）\n",
    "b = [1.0, 2, 3]"
   ]
  },
  {
   "cell_type": "code",
   "execution_count": 18,
   "metadata": {
    "collapsed": false,
    "deletable": true,
    "editable": true
   },
   "outputs": [
    {
     "data": {
      "text/plain": [
       "3-element Array{String,1}:\n",
       " \"abcd\" \n",
       " \"efg\"  \n",
       " \"hijkl\""
      ]
     },
     "execution_count": 18,
     "metadata": {},
     "output_type": "execute_result"
    }
   ],
   "source": [
    "# 文字列のベクトル（各文字列の長さが異なっていてもよい）\n",
    "c = [\"abcd\", \"efg\", \"hijkl\"]"
   ]
  },
  {
   "cell_type": "markdown",
   "metadata": {
    "deletable": true,
    "editable": true
   },
   "source": [
    "後述するが、カンマを忘れると1行の行列になる。\n",
    "Juliaでは「1行の行列」と「ベクトル」は明確に区別されるので、混同してはいけない。"
   ]
  },
  {
   "cell_type": "code",
   "execution_count": 19,
   "metadata": {
    "collapsed": false,
    "deletable": true,
    "editable": true
   },
   "outputs": [
    {
     "data": {
      "text/plain": [
       "1×3 Array{Int64,2}:\n",
       " 1  2  3"
      ]
     },
     "execution_count": 19,
     "metadata": {},
     "output_type": "execute_result"
    }
   ],
   "source": [
    "# カンマを忘れて1行の行列になってしまった\n",
    "aa = [1 2 3]"
   ]
  },
  {
   "cell_type": "markdown",
   "metadata": {
    "deletable": true,
    "editable": true
   },
   "source": [
    "ベクトルの要素を取り出すには、ベクトルの末尾に`[]`を付加し、その中に要素番号を記入する。\n",
    "要素番号（添え字）は1からスタートする（PerlやC言語などとは異なることに注意する）。\n",
    "抜き出した要素は、スカラである。\n",
    "文字列の配列は混乱しやすいので注意して記述する。"
   ]
  },
  {
   "cell_type": "code",
   "execution_count": 20,
   "metadata": {
    "collapsed": false,
    "deletable": true,
    "editable": true
   },
   "outputs": [
    {
     "data": {
      "text/plain": [
       "7"
      ]
     },
     "execution_count": 20,
     "metadata": {},
     "output_type": "execute_result"
    }
   ],
   "source": [
    "# 2個目の要素を抜き出す\n",
    "a = [6, 7, 8]\n",
    "a[2]"
   ]
  },
  {
   "cell_type": "code",
   "execution_count": 21,
   "metadata": {
    "collapsed": false,
    "deletable": true,
    "editable": true
   },
   "outputs": [
    {
     "data": {
      "text/plain": [
       "\"efg\""
      ]
     },
     "execution_count": 21,
     "metadata": {},
     "output_type": "execute_result"
    }
   ],
   "source": [
    "# 2番目の文字列を抜き出す\n",
    "c = [\"abcd\", \"efg\", \"hijkl\"]\n",
    "c[2]"
   ]
  },
  {
   "cell_type": "code",
   "execution_count": 22,
   "metadata": {
    "collapsed": false,
    "deletable": true,
    "editable": true
   },
   "outputs": [
    {
     "data": {
      "text/plain": [
       "\"fg\""
      ]
     },
     "execution_count": 22,
     "metadata": {},
     "output_type": "execute_result"
    }
   ],
   "source": [
    "# 抜き出した文字列の2文字目と3文字目を取り出す\n",
    "c[2][2:3]"
   ]
  },
  {
   "cell_type": "markdown",
   "metadata": {
    "deletable": true,
    "editable": true
   },
   "source": [
    "ベクトルの範囲を抜き出すには、ベクトルの末尾に `[]` を付加し、その中に範囲を記入する。\n",
    "範囲は `開始位置:終了位置` として記入する。\n",
    "この `[]` 内では、末尾の要素を意味するキーワード `end` が利用できる。\n",
    "範囲を省略し、`:`のみを使うと、全部の要素を指定することになる（`1:end`と同じ）。\n",
    "取り出した要素群も、ベクトルとして扱われる。"
   ]
  },
  {
   "cell_type": "code",
   "execution_count": 23,
   "metadata": {
    "collapsed": false,
    "deletable": true,
    "editable": true
   },
   "outputs": [
    {
     "data": {
      "text/plain": [
       "3-element Array{Int64,1}:\n",
       " 3\n",
       " 4\n",
       " 5"
      ]
     },
     "execution_count": 23,
     "metadata": {},
     "output_type": "execute_result"
    }
   ],
   "source": [
    "# 3番目から5番目の要素を抜き出す\n",
    "x = [1, 2, 3, 4, 5]\n",
    "x[3:5]"
   ]
  },
  {
   "cell_type": "code",
   "execution_count": 24,
   "metadata": {
    "collapsed": false,
    "deletable": true,
    "editable": true
   },
   "outputs": [
    {
     "data": {
      "text/plain": [
       "3-element Array{Int64,1}:\n",
       " 3\n",
       " 4\n",
       " 5"
      ]
     },
     "execution_count": 24,
     "metadata": {},
     "output_type": "execute_result"
    }
   ],
   "source": [
    "# 末端要素を意味する end を使う\n",
    "x[3:end]"
   ]
  },
  {
   "cell_type": "code",
   "execution_count": 25,
   "metadata": {
    "collapsed": false,
    "deletable": true,
    "editable": true
   },
   "outputs": [
    {
     "data": {
      "text/plain": [
       "5-element Array{Int64,1}:\n",
       " 1\n",
       " 2\n",
       " 3\n",
       " 4\n",
       " 5"
      ]
     },
     "execution_count": 25,
     "metadata": {},
     "output_type": "execute_result"
    }
   ],
   "source": [
    "# 全部の要素を抜き出す\n",
    "x[:]"
   ]
  },
  {
   "cell_type": "code",
   "execution_count": 26,
   "metadata": {
    "collapsed": false,
    "deletable": true,
    "editable": true
   },
   "outputs": [
    {
     "data": {
      "text/plain": [
       "2-element Array{String,1}:\n",
       " \"efg\"  \n",
       " \"hijkl\""
      ]
     },
     "execution_count": 26,
     "metadata": {},
     "output_type": "execute_result"
    }
   ],
   "source": [
    "# 複数の文字列を抜き出す\n",
    "c = [\"abcd\", \"efg\", \"hijkl\"]\n",
    "c[2:3]"
   ]
  },
  {
   "cell_type": "markdown",
   "metadata": {
    "deletable": true,
    "editable": true
   },
   "source": [
    "### 行列\n",
    "\n",
    "データを2次元の表のように並べた構造を行列という。\n",
    "ベクトルとは違い、行列には行（横方向のデータの並び）と列（縦方向のデータの並び）がある。\n",
    "行を作るには要素をスペース区切りで列挙し、列を作るには行を`;`または改行で区切り、最後に全体を`[]`でくくる。\n",
    "以下に整数の例を示すが、その他の型でも行列の作り方は同様である。"
   ]
  },
  {
   "cell_type": "code",
   "execution_count": 27,
   "metadata": {
    "collapsed": false,
    "deletable": true,
    "editable": true
   },
   "outputs": [
    {
     "data": {
      "text/plain": [
       "2×4 Array{Int64,2}:\n",
       " 1  2  3  4\n",
       " 5  6  7  8"
      ]
     },
     "execution_count": 27,
     "metadata": {},
     "output_type": "execute_result"
    }
   ],
   "source": [
    "# 2行4列の行列\n",
    "A = [1 2 3 4\n",
    "     5 6 7 8]"
   ]
  },
  {
   "cell_type": "code",
   "execution_count": 28,
   "metadata": {
    "collapsed": false,
    "deletable": true,
    "editable": true
   },
   "outputs": [
    {
     "data": {
      "text/plain": [
       "2×4 Array{Int64,2}:\n",
       " 1  2  3  4\n",
       " 5  6  7  8"
      ]
     },
     "execution_count": 28,
     "metadata": {},
     "output_type": "execute_result"
    }
   ],
   "source": [
    "# 改行の代わりに `;` を利用できる。\n",
    "A = [1 2 3 4; 5 6 7 8]"
   ]
  },
  {
   "cell_type": "code",
   "execution_count": 29,
   "metadata": {
    "collapsed": false,
    "deletable": true,
    "editable": true
   },
   "outputs": [
    {
     "ename": "LoadError",
     "evalue": "\u001b[91msyntax: unexpected semicolon in array expression\u001b[39m",
     "output_type": "error",
     "traceback": [
      "\u001b[91msyntax: unexpected semicolon in array expression\u001b[39m",
      "",
      "Stacktrace:",
      " [1] \u001b[1minclude_string\u001b[22m\u001b[22m\u001b[1m(\u001b[22m\u001b[22m::String, ::String\u001b[1m)\u001b[22m\u001b[22m at \u001b[1m./loading.jl:522\u001b[22m\u001b[22m"
     ]
    }
   ],
   "source": [
    "# カンマで要素を区切るとエラーが発生する（ベクトルの要素指定とは異なる）\n",
    "A = [1,2,3,4; 5,6,7,8]"
   ]
  },
  {
   "cell_type": "markdown",
   "metadata": {
    "deletable": true,
    "editable": true
   },
   "source": [
    "行列の要素を取り出すのにも `[]` を利用するが、行と列を指定する2つの添え字が必要である；つまり `[行位置, 列位置]` である。\n",
    "それぞれの位置には、範囲表記が利用出来る。\n",
    "抜き出した要素群は、以下のように定義される。\n",
    "\n",
    "* 抜き出した要素が単一ならば、スカラになる；例：`A[1,1]`。\n",
    "* 抜き出した要素が1列行列または1行行列ならば、ベクトルになる；例：`A[:,1]`または`A[:,1]`。\n",
    "* それ以外の場合、抜き出したものは行列になる。"
   ]
  },
  {
   "cell_type": "code",
   "execution_count": 30,
   "metadata": {
    "collapsed": false,
    "deletable": true,
    "editable": true
   },
   "outputs": [
    {
     "data": {
      "text/plain": [
       "3"
      ]
     },
     "execution_count": 30,
     "metadata": {},
     "output_type": "execute_result"
    }
   ],
   "source": [
    "# 特定の要素を抜き出す（結果はスカラ）\n",
    "A = [1 2 3 4; 5 6 7 8]\n",
    "A[1,3]"
   ]
  },
  {
   "cell_type": "code",
   "execution_count": 31,
   "metadata": {
    "collapsed": false,
    "deletable": true,
    "editable": true
   },
   "outputs": [
    {
     "data": {
      "text/plain": [
       "4-element Array{Int64,1}:\n",
       " 5\n",
       " 6\n",
       " 7\n",
       " 8"
      ]
     },
     "execution_count": 31,
     "metadata": {},
     "output_type": "execute_result"
    }
   ],
   "source": [
    "# 2行目を抜き出す（結果はベクトル）\n",
    "A[2,:]"
   ]
  },
  {
   "cell_type": "code",
   "execution_count": 32,
   "metadata": {
    "collapsed": false,
    "deletable": true,
    "editable": true
   },
   "outputs": [
    {
     "data": {
      "text/plain": [
       "2×3 Array{Int64,2}:\n",
       " 1  2  3\n",
       " 5  6  7"
      ]
     },
     "execution_count": 32,
     "metadata": {},
     "output_type": "execute_result"
    }
   ],
   "source": [
    "# 特定の範囲を抜き出す（結果は行列）\n",
    "A[1:2,1:3]"
   ]
  },
  {
   "cell_type": "markdown",
   "metadata": {
    "deletable": true,
    "editable": true
   },
   "source": [
    "### 行列とベクトル（配列）のまとめ\n",
    "\n",
    "* ベクトル（1次元配列）は要素を1列に並べたもの。行列（2次元配列）は要素を表形式に並べたもの。\n",
    "* ベクトルに値を割つけるには、要素をカンマ区切りで並べて `[]` でくくる。\n",
    "* 行列に値を割つけるには、1行内の要素の区切りとしてスペースを用い、列の区切りに改行または `;` を用い、さらに全体を `[]` でくくる。\n",
    "* 配列の要素にアクセスするには、`[]` 内に要素の位置を入力する。行列の場合には、行番号と列番号をカンマで区切って入力する。\n",
    "* 要素の範囲は `開始位置:終了位置` で指定する。特殊キーワード `end` は、その配列の最後の添え字を意味する。位置を省略して `:` を使うと、その方向の要素全部を指定したことになる（`1:end`）。\n",
    "* 抜き出した要素の構造は、要素の指定によって異なる。抜き出した要素が単一ならスカラ、1行行列または1列行列ならベクトル、それ以外なら行列が得られる。"
   ]
  },
  {
   "cell_type": "markdown",
   "metadata": {
    "deletable": true,
    "editable": true
   },
   "source": [
    "## ベクトルと行列の初期化\n",
    "\n",
    "配列（ベクトルと行列）は、使用する前にメモリ領域を確保しなければならない。\n",
    "上の例では、変数にベクトルや行列の全部の値を代入した。\n",
    "この代入の時点で配列のサイズが確定し、メモリ確保が行われた。\n",
    "こうすることで、配列の個々の要素にアクセスできた。\n",
    "\n",
    "もしメモリ確保せず、配列の特定の要素に値を代入しようとするとエラーが発生する。"
   ]
  },
  {
   "cell_type": "code",
   "execution_count": 33,
   "metadata": {
    "collapsed": false,
    "deletable": true,
    "editable": true
   },
   "outputs": [
    {
     "ename": "LoadError",
     "evalue": "\u001b[91mUndefVarError: newvec not defined\u001b[39m",
     "output_type": "error",
     "traceback": [
      "\u001b[91mUndefVarError: newvec not defined\u001b[39m",
      "",
      "Stacktrace:",
      " [1] \u001b[1minclude_string\u001b[22m\u001b[22m\u001b[1m(\u001b[22m\u001b[22m::String, ::String\u001b[1m)\u001b[22m\u001b[22m at \u001b[1m./loading.jl:522\u001b[22m\u001b[22m"
     ]
    }
   ],
   "source": [
    "# 配列 newvec は事前にデータ割り当てされていない\n",
    "# 特定の要素に値を代入しようとするとエラーになる\n",
    "newvec[1] = 5"
   ]
  },
  {
   "cell_type": "markdown",
   "metadata": {
    "deletable": true,
    "editable": true
   },
   "source": [
    "### メモリ確保と初期化\n",
    "\n",
    "配列の特定の要素に順に代入したい場合、まずはサイズを決め、メモリを確保しなければならない。\n",
    "簡単な方法は、`zeros()`関数を使うことだ。\n",
    "これは特定の大きさを持つ配列を定義し、その全要素をゼロで初期化する。\n",
    "特定の型を指定して初期化することもできる。"
   ]
  },
  {
   "cell_type": "code",
   "execution_count": 34,
   "metadata": {
    "collapsed": false,
    "deletable": true,
    "editable": true
   },
   "outputs": [
    {
     "data": {
      "text/plain": [
       "5-element Array{Float64,1}:\n",
       " 0.0\n",
       " 0.0\n",
       " 0.0\n",
       " 0.0\n",
       " 0.0"
      ]
     },
     "execution_count": 34,
     "metadata": {},
     "output_type": "execute_result"
    }
   ],
   "source": [
    "# 5個の要素をもつベクトルを作り、ゼロで初期化する\n",
    "# デフォルトでは Float64 になる\n",
    "h = zeros(5)"
   ]
  },
  {
   "cell_type": "code",
   "execution_count": 35,
   "metadata": {
    "collapsed": false,
    "deletable": true,
    "editable": true
   },
   "outputs": [
    {
     "data": {
      "text/plain": [
       "5-element Array{Int64,1}:\n",
       " 0\n",
       " 0\n",
       " 0\n",
       " 0\n",
       " 0"
      ]
     },
     "execution_count": 35,
     "metadata": {},
     "output_type": "execute_result"
    }
   ],
   "source": [
    "# 整数型 Int でベクトルを作る\n",
    "h = zeros(Int,5)"
   ]
  },
  {
   "cell_type": "code",
   "execution_count": 36,
   "metadata": {
    "collapsed": false,
    "deletable": true,
    "editable": true
   },
   "outputs": [
    {
     "data": {
      "text/plain": [
       "2×5 Array{Float64,2}:\n",
       " 0.0  0.0  0.0  0.0  0.0\n",
       " 0.0  0.0  0.0  0.0  0.0"
      ]
     },
     "execution_count": 36,
     "metadata": {},
     "output_type": "execute_result"
    }
   ],
   "source": [
    "# 行数と列数を与えると、行列ができる（デフォルトでFloat64）\n",
    "H = zeros(2,5)"
   ]
  },
  {
   "cell_type": "code",
   "execution_count": 37,
   "metadata": {
    "collapsed": false,
    "deletable": true,
    "editable": true
   },
   "outputs": [
    {
     "data": {
      "text/plain": [
       "2×5 Array{Int64,2}:\n",
       " 0  0  0  0  0\n",
       " 0  0  0  0  0"
      ]
     },
     "execution_count": 37,
     "metadata": {},
     "output_type": "execute_result"
    }
   ],
   "source": [
    "# 整数型の行列もできる\n",
    "H = zeros(Int,2,5)"
   ]
  },
  {
   "cell_type": "markdown",
   "metadata": {
    "deletable": true,
    "editable": true
   },
   "source": [
    "初期化関数は、ゼロで初期化する `zeros()` のほかにも、1で初期化する `ones()` や単位行列で初期化する `eye()` がある。"
   ]
  },
  {
   "cell_type": "code",
   "execution_count": 38,
   "metadata": {
    "collapsed": false,
    "deletable": true,
    "editable": true
   },
   "outputs": [
    {
     "data": {
      "text/plain": [
       "3-element Array{Float64,1}:\n",
       " 1.0\n",
       " 1.0\n",
       " 1.0"
      ]
     },
     "execution_count": 38,
     "metadata": {},
     "output_type": "execute_result"
    }
   ],
   "source": [
    "# 1で初期化する\n",
    "H = ones(3)"
   ]
  },
  {
   "cell_type": "code",
   "execution_count": 39,
   "metadata": {
    "collapsed": false,
    "deletable": true,
    "editable": true
   },
   "outputs": [
    {
     "data": {
      "text/plain": [
       "3×3 Array{Float64,2}:\n",
       " 1.0  0.0  0.0\n",
       " 0.0  1.0  0.0\n",
       " 0.0  0.0  1.0"
      ]
     },
     "execution_count": 39,
     "metadata": {},
     "output_type": "execute_result"
    }
   ],
   "source": [
    "# 単位行列で初期化する\n",
    "A = eye(3)"
   ]
  },
  {
   "cell_type": "markdown",
   "metadata": {
    "deletable": true,
    "editable": true
   },
   "source": [
    "### メモリは確保するが初期化しない\n",
    "\n",
    "非常に巨大な配列の場合、メモリ確保は必要だが、特定の値で初期化する必要がないケースがある。\n",
    "Juliaでは、配列の型とサイズだけを与えて、メモリ確保だけできる。\n",
    "ベクトルの確保には `Vector{型}(サイズ)` を、行列の確保には `Matrix{型}(行数,列数)` が利用できる。"
   ]
  },
  {
   "cell_type": "code",
   "execution_count": 40,
   "metadata": {
    "collapsed": false,
    "deletable": true,
    "editable": true
   },
   "outputs": [
    {
     "data": {
      "text/plain": [
       "3-element Array{Int64,1}:\n",
       " 0\n",
       " 0\n",
       " 0"
      ]
     },
     "execution_count": 40,
     "metadata": {},
     "output_type": "execute_result"
    }
   ],
   "source": [
    "# 整数型でサイズ 3 のベクトルを確保する\n",
    "# 適当な値で初期化されている\n",
    "a = Vector{Int}(3)"
   ]
  },
  {
   "cell_type": "code",
   "execution_count": 41,
   "metadata": {
    "collapsed": false,
    "deletable": true,
    "editable": true
   },
   "outputs": [
    {
     "data": {
      "text/plain": [
       "2×5 Array{Float64,2}:\n",
       " 1.65019e-153  3.98473e252  9.08367e223  4.05449e-317  0.0         \n",
       " 2.18231e-94   1.4729e179   1.16466e-28  0.0           2.41499e-314"
      ]
     },
     "execution_count": 41,
     "metadata": {},
     "output_type": "execute_result"
    }
   ],
   "source": [
    "# Float64で行列を確保する\n",
    "# 適当な値で初期化されている\n",
    "A = Matrix{Float64}(2,5)"
   ]
  },
  {
   "cell_type": "markdown",
   "metadata": {
    "deletable": true,
    "editable": true
   },
   "source": [
    "### ベクトルに要素を追加する\n",
    "\n",
    "実は、ユーザーは、ベクトルに値を自由に「追加」できる（行列の場合は別の考え方が必要になるので、ここでは省略する）。\n",
    "この場合、最初にサイズ不定の空っぽのベクトルを用意し、そこに値を追加する；この場合、値は配列の末尾に順次追加されていく。\n",
    "これはベクトルを可変長の一時領域として使う場合に便利である。\n",
    "末尾への値の追加は `push!()`、末尾の値の削除は `pop!()`、先頭への値の追加は `unshift!()`、先頭の値の削除は `shift!()` で行う。"
   ]
  },
  {
   "cell_type": "code",
   "execution_count": 42,
   "metadata": {
    "collapsed": false,
    "deletable": true,
    "editable": true
   },
   "outputs": [
    {
     "data": {
      "text/plain": [
       "0-element Array{Int64,1}"
      ]
     },
     "execution_count": 42,
     "metadata": {},
     "output_type": "execute_result"
    }
   ],
   "source": [
    "# 空っぽのベクトルを準備する\n",
    "v = Vector{Int}()"
   ]
  },
  {
   "cell_type": "code",
   "execution_count": 43,
   "metadata": {
    "collapsed": false,
    "deletable": true,
    "editable": true
   },
   "outputs": [
    {
     "data": {
      "text/plain": [
       "3-element Array{Int64,1}:\n",
       " 3\n",
       " 5\n",
       " 7"
      ]
     },
     "execution_count": 43,
     "metadata": {},
     "output_type": "execute_result"
    }
   ],
   "source": [
    "# 値を順に追加する\n",
    "push!(v,3);\n",
    "push!(v,5);\n",
    "push!(v,7);\n",
    "v"
   ]
  },
  {
   "cell_type": "code",
   "execution_count": 44,
   "metadata": {
    "collapsed": false,
    "deletable": true,
    "editable": true
   },
   "outputs": [
    {
     "data": {
      "text/plain": [
       "2-element Array{Int64,1}:\n",
       " 3\n",
       " 5"
      ]
     },
     "execution_count": 44,
     "metadata": {},
     "output_type": "execute_result"
    }
   ],
   "source": [
    "# 最後の要素を除去する\n",
    "# 除去した値を受けとることもできる（不要ならば、以下の変数 a は省力できる）\n",
    "a = pop!(v);\n",
    "v"
   ]
  },
  {
   "cell_type": "code",
   "execution_count": 45,
   "metadata": {
    "collapsed": false,
    "deletable": true,
    "editable": true
   },
   "outputs": [
    {
     "data": {
      "text/plain": [
       "3-element Array{Int64,1}:\n",
       " 1\n",
       " 3\n",
       " 5"
      ]
     },
     "execution_count": 45,
     "metadata": {},
     "output_type": "execute_result"
    }
   ],
   "source": [
    "# 先頭に値を追加する\n",
    "unshift!(v,1)"
   ]
  },
  {
   "cell_type": "code",
   "execution_count": 46,
   "metadata": {
    "collapsed": false,
    "deletable": true,
    "editable": true
   },
   "outputs": [
    {
     "data": {
      "text/plain": [
       "2-element Array{Int64,1}:\n",
       " 3\n",
       " 5"
      ]
     },
     "execution_count": 46,
     "metadata": {},
     "output_type": "execute_result"
    }
   ],
   "source": [
    "# 先頭から値を除去する\n",
    "# 除去した値を受け取ることもできる（不要ならば、以下の変数 a は省略できる）\n",
    "a = shift!(v)\n",
    "v"
   ]
  },
  {
   "cell_type": "markdown",
   "metadata": {
    "deletable": true,
    "editable": true
   },
   "source": [
    "### 初期化のまとめ\n",
    "\n",
    "* 配列の個々の要素にアクセスする前に、必要なメモリを確保しておく必要がある。\n",
    "* メモリ確保とゼロ初期化を同時に行う関数が `zeros()` である。ベクトルと行列の両方に対応している。\n",
    "* メモリを確保するが、初期化の必要がない場合には、ベクトルに関して `Vector{型}(要素数)`、行列に関して `Matrix{型}(行数,列数)` が利用出来る。初期値として適当な数字が入っている。\n",
    "* ベクトルへのデータ追加・除去だけを行う場合には、事前にサイズを確保しておく必要はない。空っぽのベクトルを `Vector{型}()` で宣言し、先頭または末尾に要素を追加／先頭または末尾から要素を除去する関数を使う。\n"
   ]
  }
 ],
 "metadata": {
  "kernelspec": {
   "display_name": "Julia 0.6.2",
   "language": "julia",
   "name": "julia-0.6"
  },
  "language_info": {
   "file_extension": ".jl",
   "mimetype": "application/julia",
   "name": "julia",
   "version": "0.6.2"
  }
 },
 "nbformat": 4,
 "nbformat_minor": 2
}
