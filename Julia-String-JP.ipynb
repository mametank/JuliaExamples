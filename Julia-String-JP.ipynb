{
 "cells": [
  {
   "cell_type": "markdown",
   "metadata": {
    "deletable": true,
    "editable": true
   },
   "source": [
    "# 文字列の処理\n",
    "\n",
    "Juliaではダブルクオーテーション `\"` でくくった内容が、文字列として扱われる。\n",
    "文字列の型は `String` であり、多数の文字の集合である。\n",
    "ここでは代表的な文字列処理の方法を紹介する。\n",
    "なお、この章の説明は、データ構造に関する章を読み終わっていることを前提としている。\n",
    "\n",
    "また、すでに、[非常によくまとまった入門ガイド](https://github.com/bicycle1885/Julia-Tutorial/blob/master/Julia高速チュートリアル.ipynb)があるので、詳細はそちらを参照して欲しい。"
   ]
  },
  {
   "cell_type": "markdown",
   "metadata": {
    "deletable": true,
    "editable": true
   },
   "source": [
    "## 文字列の基本的な扱い方\n",
    "\n",
    "### 文字列の定義と抽出\n",
    "\n",
    "文字列を定義するには、ダブルクオーテーションで内容物をくくればよい。\n",
    "文字列は数値と同様、変数に代入することができる。\n",
    "その変数の型は `String` になる。"
   ]
  },
  {
   "cell_type": "code",
   "execution_count": 1,
   "metadata": {
    "collapsed": false,
    "deletable": true,
    "editable": true
   },
   "outputs": [
    {
     "data": {
      "text/plain": [
       "\"ABCDEFG\""
      ]
     },
     "execution_count": 1,
     "metadata": {},
     "output_type": "execute_result"
    }
   ],
   "source": [
    "s = \"ABCDEFG\""
   ]
  },
  {
   "cell_type": "code",
   "execution_count": 2,
   "metadata": {
    "collapsed": false,
    "deletable": true,
    "editable": true
   },
   "outputs": [
    {
     "data": {
      "text/plain": [
       "String"
      ]
     },
     "execution_count": 2,
     "metadata": {},
     "output_type": "execute_result"
    }
   ],
   "source": [
    "typeof(s)"
   ]
  },
  {
   "cell_type": "markdown",
   "metadata": {
    "deletable": true,
    "editable": true
   },
   "source": [
    "文字列から一部を切り出すには、配列と同じく末尾に `[]` を付加し、取り出す範囲を指定する。\n",
    "範囲の指定は `開始位置:終了位置` の形式でしている。\n",
    "もし終了位置に、キーワード `end` を使うなら、それは文字列の末端を指定したことと同じである。\n",
    "また、開始位置と終了位置の両方を省略して `:` のみを使うと、それは文字列全体を指定したのと同じ意味になる（`1:end`）。\n",
    "抜き出した文字列もまた、`String` である。"
   ]
  },
  {
   "cell_type": "code",
   "execution_count": 3,
   "metadata": {
    "collapsed": false,
    "deletable": true,
    "editable": true
   },
   "outputs": [
    {
     "data": {
      "text/plain": [
       "\"CDE\""
      ]
     },
     "execution_count": 3,
     "metadata": {},
     "output_type": "execute_result"
    }
   ],
   "source": [
    "# 3文字目から5文字目を抜き出す\n",
    "s[3:5]"
   ]
  },
  {
   "cell_type": "markdown",
   "metadata": {
    "deletable": true,
    "editable": true
   },
   "source": [
    "1文字だけ抜き出す場合は注意を要する。\n",
    "もし開始位置を範囲でなく1つの値にするなら、得られる値は文字列ではなく、文字 `Char` になる。"
   ]
  },
  {
   "cell_type": "code",
   "execution_count": 4,
   "metadata": {
    "collapsed": false,
    "deletable": true,
    "editable": true
   },
   "outputs": [
    {
     "data": {
      "text/plain": [
       "'C': ASCII/Unicode U+0043 (category Lu: Letter, uppercase)"
      ]
     },
     "execution_count": 4,
     "metadata": {},
     "output_type": "execute_result"
    }
   ],
   "source": [
    "# 3文字目の「文字」を抜き出す\n",
    "s[3]"
   ]
  },
  {
   "cell_type": "markdown",
   "metadata": {
    "deletable": true,
    "editable": true
   },
   "source": [
    "もし1文字だけの「文字列」を得たいなら、範囲表記を使い、開始と終了の位置を同じにすればよい。"
   ]
  },
  {
   "cell_type": "code",
   "execution_count": 5,
   "metadata": {
    "collapsed": false,
    "deletable": true,
    "editable": true
   },
   "outputs": [
    {
     "data": {
      "text/plain": [
       "\"C\""
      ]
     },
     "execution_count": 5,
     "metadata": {},
     "output_type": "execute_result"
    }
   ],
   "source": [
    "# 3文字目を「文字列」として抜き出す\n",
    "s[3:3]"
   ]
  },
  {
   "cell_type": "markdown",
   "metadata": {
    "deletable": true,
    "editable": true
   },
   "source": [
    "### 文字列の結合\n",
    "\n",
    "二つの文字列を結合するには、演算子 `*` を用いる（Perlでは `.` に相当する）。"
   ]
  },
  {
   "cell_type": "code",
   "execution_count": 6,
   "metadata": {
    "collapsed": false,
    "deletable": true,
    "editable": true
   },
   "outputs": [
    {
     "data": {
      "text/plain": [
       "\"ABCDEFGHIJKL\""
      ]
     },
     "execution_count": 6,
     "metadata": {},
     "output_type": "execute_result"
    }
   ],
   "source": [
    "t = s * \"HIJKL\""
   ]
  },
  {
   "cell_type": "markdown",
   "metadata": {
    "deletable": true,
    "editable": true
   },
   "source": [
    "### 数値を文字列に変換する（string関数）\n",
    "\n",
    "数値を文字列に変換するには、`string()` 関数を用いる。\n",
    "この関数は複数の引数を取り、それらを区切りなしで結合する。\n",
    "これは、実際には数値以外のスカラも文字列に変換することができる。"
   ]
  },
  {
   "cell_type": "code",
   "execution_count": 7,
   "metadata": {
    "collapsed": false,
    "deletable": true,
    "editable": true
   },
   "outputs": [
    {
     "data": {
      "text/plain": [
       "\"1000\""
      ]
     },
     "execution_count": 7,
     "metadata": {},
     "output_type": "execute_result"
    }
   ],
   "source": [
    "# 整数の変換\n",
    "string(1000)"
   ]
  },
  {
   "cell_type": "code",
   "execution_count": 8,
   "metadata": {
    "collapsed": false,
    "deletable": true,
    "editable": true
   },
   "outputs": [
    {
     "data": {
      "text/plain": [
       "\"3.14\""
      ]
     },
     "execution_count": 8,
     "metadata": {},
     "output_type": "execute_result"
    }
   ],
   "source": [
    "# 実数の変換\n",
    "string(3.14)"
   ]
  },
  {
   "cell_type": "code",
   "execution_count": 9,
   "metadata": {
    "collapsed": false,
    "deletable": true,
    "editable": true
   },
   "outputs": [
    {
     "data": {
      "text/plain": [
       "\"10003.14\""
      ]
     },
     "execution_count": 9,
     "metadata": {},
     "output_type": "execute_result"
    }
   ],
   "source": [
    "# 複数の要素を同時に変換する\n",
    "string(1000,3.14)"
   ]
  },
  {
   "cell_type": "code",
   "execution_count": 10,
   "metadata": {
    "collapsed": false,
    "deletable": true,
    "editable": true
   },
   "outputs": [
    {
     "data": {
      "text/plain": [
       "\"1000 3.14\""
      ]
     },
     "execution_count": 10,
     "metadata": {},
     "output_type": "execute_result"
    }
   ],
   "source": [
    "# 間に文字列を挟むことができる\n",
    "string(1000,\" \",3.14)"
   ]
  },
  {
   "cell_type": "markdown",
   "metadata": {
    "deletable": true,
    "editable": true
   },
   "source": [
    "### 数値を文字列に変換する（@sprintfマクロ）\n",
    "\n",
    "数値を精密に（小数点以下の桁数などを制御して）文字列に変換するには、いろいろな方法があるが、`@sprintf` が簡単である。\n",
    "これはC言語以下、各種言語でサポートされている `sprintf` の挙動を真似るものである。"
   ]
  },
  {
   "cell_type": "code",
   "execution_count": 11,
   "metadata": {
    "collapsed": false,
    "deletable": true,
    "editable": true
   },
   "outputs": [
    {
     "data": {
      "text/plain": [
       "\"3.14\""
      ]
     },
     "execution_count": 11,
     "metadata": {},
     "output_type": "execute_result"
    }
   ],
   "source": [
    "# 変数 x を定義する\n",
    "x = 3.1415926\n",
    "\n",
    "# 上記の x を小数点以下2桁までに揃える\n",
    "y = @sprintf(\"%.2f\",x)"
   ]
  },
  {
   "cell_type": "markdown",
   "metadata": {
    "deletable": true,
    "editable": true
   },
   "source": [
    "### 変数を文字列内に展開する\n",
    "\n",
    "Juliaでは、Perlと同じく、文字列中で変数を展開することができる（これを内挿 interpolation という）。\n",
    "文字列内の変数は `$()` でくくる。\n",
    "数値の変換フォーマットは、Juliaに一任する。"
   ]
  },
  {
   "cell_type": "code",
   "execution_count": 12,
   "metadata": {
    "collapsed": false,
    "deletable": true,
    "editable": true
   },
   "outputs": [
    {
     "data": {
      "text/plain": [
       "\"Pi is 3.1415926.\""
      ]
     },
     "execution_count": 12,
     "metadata": {},
     "output_type": "execute_result"
    }
   ],
   "source": [
    "# 内挿する\n",
    "\"Pi is $(x).\""
   ]
  },
  {
   "cell_type": "code",
   "execution_count": 13,
   "metadata": {
    "collapsed": false,
    "deletable": true,
    "editable": true
   },
   "outputs": [
    {
     "data": {
      "text/plain": [
       "\"Pi is 3.14.\""
      ]
     },
     "execution_count": 13,
     "metadata": {},
     "output_type": "execute_result"
    }
   ],
   "source": [
    "# @sprintfも使える\n",
    "\"Pi is $(@sprintf(\"%.2f\",x)).\""
   ]
  },
  {
   "cell_type": "markdown",
   "metadata": {
    "deletable": true,
    "editable": true
   },
   "source": [
    "### 特殊文字\n",
    "\n",
    "文字列の中で、`\\` で始まる記号は、特別な意味を持つ文字列に置き換わる。\n",
    "以下に一部を示す。\n",
    "\n",
    "|記号     |置き換わる記号または意味|\n",
    "|:-------|:-------------------|\n",
    "|`\\n`     |改行|\n",
    "|`\\t`     |タブ|\n",
    "|`\\$`     |ドル記号そのもの|\n",
    "|`\\\"`     |ダブルクオーテーションそのもの|\n",
    "\n"
   ]
  },
  {
   "cell_type": "code",
   "execution_count": 14,
   "metadata": {
    "collapsed": false,
    "deletable": true,
    "editable": true
   },
   "outputs": [
    {
     "name": "stdout",
     "output_type": "stream",
     "text": [
      "I have $100\tafter a tab.\n",
      "The next line.\t\"double quotation\""
     ]
    }
   ],
   "source": [
    "# ためしに全部入れてみる\n",
    "print(\"I have \\$100\\tafter a tab.\\nThe next line.\\t\\\"double quotation\\\"\")"
   ]
  },
  {
   "cell_type": "markdown",
   "metadata": {
    "deletable": true,
    "editable": true
   },
   "source": [
    "## 文字列関数\n",
    "\n",
    "Juliaには多数の文字列関数が用意されている。\n",
    "標準状態で使えるものは、[マニュアル](https://docs.julialang.org/en/stable/stdlib/strings/)に記載がある。\n",
    "ここではそのごく一部を紹介する。"
   ]
  },
  {
   "cell_type": "markdown",
   "metadata": {
    "deletable": true,
    "editable": true
   },
   "source": [
    "### 文字列の長さを得る\n",
    "\n",
    "関数 `length()` は文字列の長さを返す。"
   ]
  },
  {
   "cell_type": "code",
   "execution_count": 15,
   "metadata": {
    "collapsed": false,
    "deletable": true,
    "editable": true
   },
   "outputs": [
    {
     "data": {
      "text/plain": [
       "7"
      ]
     },
     "execution_count": 15,
     "metadata": {},
     "output_type": "execute_result"
    }
   ],
   "source": [
    "length(\"abcdefg\")"
   ]
  },
  {
   "cell_type": "markdown",
   "metadata": {
    "deletable": true,
    "editable": true
   },
   "source": [
    "### 文字列の反転\n",
    "\n",
    "関数 `reverse()` を使う。"
   ]
  },
  {
   "cell_type": "code",
   "execution_count": 16,
   "metadata": {
    "collapsed": false,
    "deletable": true,
    "editable": true
   },
   "outputs": [
    {
     "data": {
      "text/plain": [
       "\"gfedcba\""
      ]
     },
     "execution_count": 16,
     "metadata": {},
     "output_type": "execute_result"
    }
   ],
   "source": [
    "reverse(\"abcdefg\")"
   ]
  },
  {
   "cell_type": "markdown",
   "metadata": {
    "deletable": true,
    "editable": true
   },
   "source": [
    "### 先頭と末尾のスペースを除去する\n",
    "\n",
    "関数 `strip()` は、文字列の先頭と末尾を埋めるスペースを除去する。同様に `lstrip()` は左端（先頭）のスペースのみを、`rstrip()` は右端（末尾）のスペースのみを除去する。"
   ]
  },
  {
   "cell_type": "code",
   "execution_count": 17,
   "metadata": {
    "collapsed": false,
    "deletable": true,
    "editable": true
   },
   "outputs": [
    {
     "data": {
      "text/plain": [
       "\"a  b  c\""
      ]
     },
     "execution_count": 17,
     "metadata": {},
     "output_type": "execute_result"
    }
   ],
   "source": [
    "strip(\" a  b  c  \")"
   ]
  },
  {
   "cell_type": "markdown",
   "metadata": {
    "deletable": true,
    "editable": true
   },
   "source": [
    "### 文字列を区切り文字で分割する\n",
    "\n",
    "文字列の分割には `split()` が利用できる。\n",
    "区切り文字のデフォルトは、1つ以上の連続するスペースである（先頭と末尾のスペースは無視される）。\n",
    "この挙動は awk のフィールド分割（`$1`や`$2`）と似ている。\n",
    "区切られた部分文字列は、ひとつの配列（ベクトル）に入れられて戻される。\n",
    "以下に具体的な使い方を示す。"
   ]
  },
  {
   "cell_type": "code",
   "execution_count": 18,
   "metadata": {
    "collapsed": false,
    "deletable": true,
    "editable": true
   },
   "outputs": [
    {
     "data": {
      "text/plain": [
       "3-element Array{SubString{String},1}:\n",
       " \"a\"\n",
       " \"b\"\n",
       " \"c\""
      ]
     },
     "execution_count": 18,
     "metadata": {},
     "output_type": "execute_result"
    }
   ],
   "source": [
    "# 文字列\n",
    "str = \" a  b  c \"\n",
    "\n",
    "# デフォルトの動作\n",
    "split(str)"
   ]
  },
  {
   "cell_type": "code",
   "execution_count": 19,
   "metadata": {
    "collapsed": false,
    "deletable": true,
    "editable": true
   },
   "outputs": [
    {
     "data": {
      "text/plain": [
       "7-element Array{SubString{String},1}:\n",
       " \"\" \n",
       " \"a\"\n",
       " \"\" \n",
       " \"b\"\n",
       " \"\" \n",
       " \"c\"\n",
       " \"\" "
      ]
     },
     "execution_count": 19,
     "metadata": {},
     "output_type": "execute_result"
    }
   ],
   "source": [
    "# 第2引数で区切り文字を指定する\n",
    "# この場合、1個のスペースを区切りにしたので、大量の空文字列が発生する\n",
    "split(str,\" \")"
   ]
  },
  {
   "cell_type": "code",
   "execution_count": 20,
   "metadata": {
    "collapsed": false,
    "deletable": true,
    "editable": true
   },
   "outputs": [
    {
     "data": {
      "text/plain": [
       "3-element Array{SubString{String},1}:\n",
       " \"a\"\n",
       " \"b\"\n",
       " \"c\""
      ]
     },
     "execution_count": 20,
     "metadata": {},
     "output_type": "execute_result"
    }
   ],
   "source": [
    "# オプション引数 keep=false とすると、分割後の空文字列を除去できる\n",
    "# keep=true なら、空文字列をキープする\n",
    "split(str,\" \",keep=false)"
   ]
  },
  {
   "cell_type": "markdown",
   "metadata": {
    "deletable": true,
    "editable": true
   },
   "source": [
    "### 文字列配列の結合\n",
    "\n",
    "関数 `join()` は、文字列の結合を行う（Perlのjoinと同じ）；つまり上の `split()` の逆を行う。"
   ]
  },
  {
   "cell_type": "code",
   "execution_count": 21,
   "metadata": {
    "collapsed": false,
    "deletable": true,
    "editable": true
   },
   "outputs": [
    {
     "data": {
      "text/plain": [
       "\"a b c\""
      ]
     },
     "execution_count": 21,
     "metadata": {},
     "output_type": "execute_result"
    }
   ],
   "source": [
    "# 文字列配列を用意する\n",
    "ar = split(str)\n",
    "# スペースで結合する\n",
    "join(ar,\" \")"
   ]
  },
  {
   "cell_type": "code",
   "execution_count": 22,
   "metadata": {
    "collapsed": false,
    "deletable": true,
    "editable": true
   },
   "outputs": [
    {
     "data": {
      "text/plain": [
       "\"Yamada, Tanaka, and Yamaguchi\""
      ]
     },
     "execution_count": 22,
     "metadata": {},
     "output_type": "execute_result"
    }
   ],
   "source": [
    "# 第3引数は、最後の要素を結合する時にだけ使われる\n",
    "# 英語の文脈でよく出てくる表現を作るために使える\n",
    "namelist = [\"Yamada\", \"Tanaka\", \"Yamaguchi\"]\n",
    "join(namelist,\", \",\", and \")"
   ]
  },
  {
   "cell_type": "markdown",
   "metadata": {
    "deletable": true,
    "editable": true
   },
   "source": [
    "### 左寄せと右寄せ\n",
    "\n",
    "文字列を左寄せ（末尾にスペースを詰める）には `lpad()` を、右寄せ（先頭にスペースを詰める）には `rpad()` を利用する。"
   ]
  },
  {
   "cell_type": "code",
   "execution_count": 23,
   "metadata": {
    "collapsed": false,
    "deletable": true,
    "editable": true
   },
   "outputs": [
    {
     "data": {
      "text/plain": [
       "\"     abcde\""
      ]
     },
     "execution_count": 23,
     "metadata": {},
     "output_type": "execute_result"
    }
   ],
   "source": [
    "# 左寄せで10文字に揃える\n",
    "lpad(\"abcde\",10)"
   ]
  },
  {
   "cell_type": "code",
   "execution_count": 24,
   "metadata": {
    "collapsed": false,
    "deletable": true,
    "editable": true
   },
   "outputs": [
    {
     "data": {
      "text/plain": [
       "\"abcde     \""
      ]
     },
     "execution_count": 24,
     "metadata": {},
     "output_type": "execute_result"
    }
   ],
   "source": [
    "# 右寄せで10文字に揃える\n",
    "rpad(\"abcde\",10)"
   ]
  },
  {
   "cell_type": "markdown",
   "metadata": {
    "deletable": true,
    "editable": true
   },
   "source": [
    "### 文字列の検索\n",
    "\n",
    "ある文字列から、特定の文字列を検索し、その位置を返すには `search()` を用いる。\n",
    "先頭から検索し、最初に現れた位置を範囲で返す。\n",
    "もし発見されなかった場合には、無意味な範囲（`0:-1`）が返る。\n",
    "末尾から検索するには、`rsearch()`を利用する。\n",
    "もし、マッチした先頭位置だけが欲しいなら、`searchindex()` および `rsearchindex()` が利用出来る。"
   ]
  },
  {
   "cell_type": "code",
   "execution_count": 25,
   "metadata": {
    "collapsed": false,
    "deletable": true,
    "editable": true
   },
   "outputs": [
    {
     "data": {
      "text/plain": [
       "1:3"
      ]
     },
     "execution_count": 25,
     "metadata": {},
     "output_type": "execute_result"
    }
   ],
   "source": [
    "# 文字列内に \"abc\" が最初に現れる位置を特定する\n",
    "search(\"abcDEFabcdef\",\"abc\")"
   ]
  },
  {
   "cell_type": "code",
   "execution_count": 26,
   "metadata": {
    "collapsed": false,
    "deletable": true,
    "editable": true
   },
   "outputs": [
    {
     "data": {
      "text/plain": [
       "1"
      ]
     },
     "execution_count": 26,
     "metadata": {},
     "output_type": "execute_result"
    }
   ],
   "source": [
    "# 最初に出現した位置だけを得る\n",
    "searchindex(\"abcDEFabcdef\",\"abc\")"
   ]
  },
  {
   "cell_type": "code",
   "execution_count": 27,
   "metadata": {
    "collapsed": false,
    "deletable": true,
    "editable": true
   },
   "outputs": [
    {
     "data": {
      "text/plain": [
       "7:9"
      ]
     },
     "execution_count": 27,
     "metadata": {},
     "output_type": "execute_result"
    }
   ],
   "source": [
    "# 末尾から検索する\n",
    "rsearch(\"abcDEFabcdef\",\"abc\")"
   ]
  },
  {
   "cell_type": "code",
   "execution_count": 28,
   "metadata": {
    "collapsed": false,
    "deletable": true,
    "editable": true
   },
   "outputs": [
    {
     "data": {
      "text/plain": [
       "0:-1"
      ]
     },
     "execution_count": 28,
     "metadata": {},
     "output_type": "execute_result"
    }
   ],
   "source": [
    "# 発見できなかった場合\n",
    "search(\"abcDEFabcdef\",\"ABC\")"
   ]
  },
  {
   "cell_type": "markdown",
   "metadata": {
    "deletable": true,
    "editable": true
   },
   "source": [
    "### 文字列の置換\n",
    "\n",
    "文字列を置換するには `replace()` を用いる。\n",
    "上で紹介した `search()` と同じく、最初に与えた文字列から、2番目に与えた文字列を検索する。\n",
    "そして、3番目に与えた文字列に置き換える。\n",
    "置換する回数を制約するオプションがある。"
   ]
  },
  {
   "cell_type": "code",
   "execution_count": 29,
   "metadata": {
    "collapsed": false,
    "deletable": true,
    "editable": true
   },
   "outputs": [
    {
     "data": {
      "text/plain": [
       "\"ABCDEFABCdef\""
      ]
     },
     "execution_count": 29,
     "metadata": {},
     "output_type": "execute_result"
    }
   ],
   "source": [
    "# 文字列内の \"abc\" を、すべて \"ABC\" に置換する\n",
    "replace(\"abcDEFabcdef\",\"abc\",\"ABC\")"
   ]
  },
  {
   "cell_type": "code",
   "execution_count": 30,
   "metadata": {
    "collapsed": false,
    "deletable": true,
    "editable": true
   },
   "outputs": [
    {
     "data": {
      "text/plain": [
       "\"ABCDEFabcdef\""
      ]
     },
     "execution_count": 30,
     "metadata": {},
     "output_type": "execute_result"
    }
   ],
   "source": [
    "# 置換の回数を1回に制限する\n",
    "replace(\"abcDEFabcdef\",\"abc\",\"ABC\",1)"
   ]
  },
  {
   "cell_type": "markdown",
   "metadata": {
    "deletable": true,
    "editable": true
   },
   "source": [
    "### 文字列の置換（高度な利用方法）\n",
    "\n",
    "置換関数 `replace()` の第3引数には、置き換える文字列だけではなく、関数を指定できる。\n",
    "マッチした部分文字列をその関数に渡し、その戻り値を出力することができる。"
   ]
  },
  {
   "cell_type": "code",
   "execution_count": 31,
   "metadata": {
    "collapsed": false,
    "deletable": true,
    "editable": true
   },
   "outputs": [
    {
     "data": {
      "text/plain": [
       "\"ABCDEFABCdef\""
      ]
     },
     "execution_count": 31,
     "metadata": {},
     "output_type": "execute_result"
    }
   ],
   "source": [
    "# 文字列内の abc を、すべて \"ABC\" に置換する\n",
    "replace(\"abcDEFabcdef\",\"abc\",uppercase)"
   ]
  },
  {
   "cell_type": "markdown",
   "metadata": {
    "deletable": true,
    "editable": true
   },
   "source": [
    "### 大文字と小文字の変換\n",
    "\n",
    "大文字への変換には `uppercase()`、小文字への変換には `lowercase()` を使う。\n",
    "単語の頭文字だけを大文字にする `titlecase()` もある。"
   ]
  },
  {
   "cell_type": "code",
   "execution_count": 32,
   "metadata": {
    "collapsed": false,
    "deletable": true,
    "editable": true
   },
   "outputs": [
    {
     "data": {
      "text/plain": [
       "\"ABCDEFG\""
      ]
     },
     "execution_count": 32,
     "metadata": {},
     "output_type": "execute_result"
    }
   ],
   "source": [
    "uppercase(\"abcdefg\")"
   ]
  },
  {
   "cell_type": "code",
   "execution_count": 33,
   "metadata": {
    "collapsed": false,
    "deletable": true,
    "editable": true
   },
   "outputs": [
    {
     "data": {
      "text/plain": [
       "\"abcdefg\""
      ]
     },
     "execution_count": 33,
     "metadata": {},
     "output_type": "execute_result"
    }
   ],
   "source": [
    "lowercase(\"ABCDEFG\")"
   ]
  },
  {
   "cell_type": "code",
   "execution_count": 34,
   "metadata": {
    "collapsed": false,
    "deletable": true,
    "editable": true
   },
   "outputs": [
    {
     "data": {
      "text/plain": [
       "\"This Is A Pen.\""
      ]
     },
     "execution_count": 34,
     "metadata": {},
     "output_type": "execute_result"
    }
   ],
   "source": [
    "titlecase(\"This is a pen.\")"
   ]
  },
  {
   "cell_type": "markdown",
   "metadata": {
    "deletable": true,
    "editable": true
   },
   "source": [
    "## 正規表現\n",
    "\n",
    "Juliaには、Perl相当の正規表現機能が備わっており、検索と置換に利用できる。\n",
    "上で説明した `search()` や `replace()` は、第2引数に文字列ではなく正規表現を含めることができる。\n",
    "また、`split()` の区切り文字指定にも正規表現が利用できる。\n",
    "\n",
    "Perlでは、正規表現は単なる文字列だが、Juliaでは、正規表現を表す特別な文字列（`r\"\"`）を利用する。\n",
    "以下の例は、正規表現文字列を作り、その型を確認している。"
   ]
  },
  {
   "cell_type": "code",
   "execution_count": 35,
   "metadata": {
    "collapsed": false,
    "deletable": true,
    "editable": true
   },
   "outputs": [
    {
     "data": {
      "text/plain": [
       "r\"HOL[0-9]+\""
      ]
     },
     "execution_count": 35,
     "metadata": {},
     "output_type": "execute_result"
    }
   ],
   "source": [
    "# 文字列に r の接頭辞をつける\n",
    "r\"HOL[0-9]+\""
   ]
  },
  {
   "cell_type": "code",
   "execution_count": 36,
   "metadata": {
    "collapsed": false,
    "deletable": true,
    "editable": true
   },
   "outputs": [
    {
     "data": {
      "text/plain": [
       "Regex"
      ]
     },
     "execution_count": 36,
     "metadata": {},
     "output_type": "execute_result"
    }
   ],
   "source": [
    "# これは正規表現の文字列である\n",
    "typeof(r\"HOL[0-9]+\")"
   ]
  },
  {
   "cell_type": "markdown",
   "metadata": {
    "deletable": true,
    "editable": true
   },
   "source": [
    "### 正規表現による簡単なマッチング\n",
    "\n",
    "関数 `ismatch()` は、与えた正規表現が、ある文字列内に含まれるかどうかを返す。\n",
    "結果は `Bool` （マッチすれば`true`、それ以外は`false`）で返る。 \n",
    "Perlの `=~//` に相当する。"
   ]
  },
  {
   "cell_type": "code",
   "execution_count": 37,
   "metadata": {
    "collapsed": false,
    "deletable": true,
    "editable": true
   },
   "outputs": [
    {
     "data": {
      "text/plain": [
       "true"
      ]
     },
     "execution_count": 37,
     "metadata": {},
     "output_type": "execute_result"
    }
   ],
   "source": [
    "# 与えた正規表現が、文字列内に含まれるかどうかを返す\n",
    "ismatch(r\"[A-Z1-9]+\",\"abcDEF123abcDEF456\")"
   ]
  },
  {
   "cell_type": "markdown",
   "metadata": {
    "deletable": true,
    "editable": true
   },
   "source": [
    "### 正規表現に最初にマッチした文字列のみを得る\n",
    "\n",
    "関数 `match()` は、ある正規表現が文字列にマッチするかどうかを確かめ、その最初のマッチだけを取り出す。\n",
    "取り出されたデータは構造体であり、詳細な情報を含んでいる。"
   ]
  },
  {
   "cell_type": "code",
   "execution_count": 38,
   "metadata": {
    "collapsed": false,
    "deletable": true,
    "editable": true
   },
   "outputs": [
    {
     "data": {
      "text/plain": [
       "Void"
      ]
     },
     "execution_count": 38,
     "metadata": {},
     "output_type": "execute_result"
    }
   ],
   "source": [
    "# マッチしなかった場合は Void または Nothing が返る\n",
    "m = match(r\"abc\",\"DEF\")\n",
    "typeof(m)"
   ]
  },
  {
   "cell_type": "code",
   "execution_count": 39,
   "metadata": {
    "collapsed": false,
    "deletable": true,
    "editable": true
   },
   "outputs": [
    {
     "data": {
      "text/plain": [
       "RegexMatch(\"DEF123\")"
      ]
     },
     "execution_count": 39,
     "metadata": {},
     "output_type": "execute_result"
    }
   ],
   "source": [
    "# 最初にマッチした部分に関する情報を得る\n",
    "m = match(r\"[A-Z1-9]+\",\"abcDEF123abcDEF456\")"
   ]
  },
  {
   "cell_type": "code",
   "execution_count": 40,
   "metadata": {
    "collapsed": false,
    "deletable": true,
    "editable": true
   },
   "outputs": [
    {
     "data": {
      "text/plain": [
       "\"DEF123\""
      ]
     },
     "execution_count": 40,
     "metadata": {},
     "output_type": "execute_result"
    }
   ],
   "source": [
    "# 最初にマッチした部分文字列\n",
    "m.match"
   ]
  },
  {
   "cell_type": "code",
   "execution_count": 41,
   "metadata": {
    "collapsed": false,
    "deletable": true,
    "editable": true
   },
   "outputs": [
    {
     "data": {
      "text/plain": [
       "4"
      ]
     },
     "execution_count": 41,
     "metadata": {},
     "output_type": "execute_result"
    }
   ],
   "source": [
    "# その文字列中の位置（4文字目）\n",
    "m.offset"
   ]
  },
  {
   "cell_type": "markdown",
   "metadata": {
    "deletable": true,
    "editable": true
   },
   "source": [
    "### 正規表現にマッチした文字列を得る（イテレーター）\n",
    "\n",
    "文字列中に複数のマッチがある場合、そのすべてを取り出すには2つの方法がある。\n",
    "一つ目は、イテレーターと呼ばれる仕組みを利用することだ。\n",
    "関数 `eachmatch()` は、上で示したマッチ構造体の集合を返す。\n",
    "それを `for` ループにかけると、個々のマッチ情報が得られる。"
   ]
  },
  {
   "cell_type": "code",
   "execution_count": 42,
   "metadata": {
    "collapsed": false,
    "deletable": true,
    "editable": true
   },
   "outputs": [
    {
     "data": {
      "text/plain": [
       "Base.RegexMatchIterator(r\"[A-Z1-9]+\", \"abcDEF123abcDEF456\", false)"
      ]
     },
     "execution_count": 42,
     "metadata": {},
     "output_type": "execute_result"
    }
   ],
   "source": [
    "# マッチした部分に関する情報を得る\n",
    "em = eachmatch(r\"[A-Z1-9]+\",\"abcDEF123abcDEF456\")"
   ]
  },
  {
   "cell_type": "code",
   "execution_count": 43,
   "metadata": {
    "collapsed": false,
    "deletable": true,
    "editable": true
   },
   "outputs": [
    {
     "name": "stdout",
     "output_type": "stream",
     "text": [
      "DEF123: 4\n",
      "DEF456: 13\n"
     ]
    }
   ],
   "source": [
    "# 反復して、それぞれのマッチした部分文字列と開始位置を得る\n",
    "for i in em\n",
    "    println(i.match,\": \",i.offset)\n",
    "end"
   ]
  },
  {
   "cell_type": "markdown",
   "metadata": {
    "deletable": true,
    "editable": true
   },
   "source": [
    "### 正規表現にマッチした文字列を得る（構造体配列）\n",
    "\n",
    "関数 `matchall()` は、上の `eachmatch()` とほぼ同じ挙動をするが、マッチ情報をベクトルに入れて返す。\n",
    "マッチした文字列は、ベクトルと同じく `[]` でアクセスできる。"
   ]
  },
  {
   "cell_type": "code",
   "execution_count": 44,
   "metadata": {
    "collapsed": false,
    "deletable": true,
    "editable": true
   },
   "outputs": [
    {
     "data": {
      "text/plain": [
       "2-element Array{SubString{String},1}:\n",
       " \"DEF123\"\n",
       " \"DEF456\""
      ]
     },
     "execution_count": 44,
     "metadata": {},
     "output_type": "execute_result"
    }
   ],
   "source": [
    "# マッチした部分に関する情報を得る\n",
    "ma = matchall(r\"[A-Z1-9]+\",\"abcDEF123abcDEF456\")"
   ]
  },
  {
   "cell_type": "code",
   "execution_count": 45,
   "metadata": {
    "collapsed": false,
    "deletable": true,
    "editable": true
   },
   "outputs": [
    {
     "data": {
      "text/plain": [
       "2-element Array{SubString{String},1}:\n",
       " \"DEF123\"\n",
       " \"DEF456\""
      ]
     },
     "execution_count": 45,
     "metadata": {},
     "output_type": "execute_result"
    }
   ],
   "source": [
    "# 要素にアクセスすることで、マッチ部分行列を得られる\n",
    "ma[1:end]"
   ]
  },
  {
   "cell_type": "code",
   "execution_count": 46,
   "metadata": {
    "collapsed": false,
    "deletable": true,
    "editable": true
   },
   "outputs": [
    {
     "data": {
      "text/plain": [
       "12"
      ]
     },
     "execution_count": 46,
     "metadata": {},
     "output_type": "execute_result"
    }
   ],
   "source": [
    "# 開始位置は、各要素を参照することで得られる\n",
    "ma[2].offset"
   ]
  },
  {
   "cell_type": "markdown",
   "metadata": {
    "deletable": true,
    "editable": true
   },
   "source": [
    "### 正規表現による置換\n",
    "\n",
    "ここでは、Perlで頻出する `s///g` による置換をJuliaで行う方法について説明する。\n",
    "使う関数は上で説明した `replace()` である。\n",
    "基本的な置換方法は、正規表現なしの場合と同じである。"
   ]
  },
  {
   "cell_type": "code",
   "execution_count": 47,
   "metadata": {
    "collapsed": false,
    "deletable": true,
    "editable": true
   },
   "outputs": [
    {
     "data": {
      "text/plain": [
       "\"abc_abc_\""
      ]
     },
     "execution_count": 47,
     "metadata": {},
     "output_type": "execute_result"
    }
   ],
   "source": [
    "# 引数の順序に注意\n",
    "# DEF123とDEF456がマッチし、それが _ に置き換わる\n",
    "replace(\"abcDEF123abcDEF456\",r\"[A-Z1-9]+\",\"_\")"
   ]
  },
  {
   "cell_type": "markdown",
   "metadata": {
    "deletable": true,
    "editable": true
   },
   "source": [
    "マッチした部分を置換時に再利用する場合は、Perlと同様の手順を取る。\n",
    "まず、正規表現の中でのちに参照したい部分を `()` でくくる。\n",
    "次に、置換文字列を `s\"\"` で定義し、最初にマッチした文字列を `\\1`、2番目にマッチした文字列を `\\2` として参照する。"
   ]
  },
  {
   "cell_type": "code",
   "execution_count": 48,
   "metadata": {
    "collapsed": false,
    "deletable": true,
    "editable": true
   },
   "outputs": [
    {
     "data": {
      "text/plain": [
       "\"XYZ0123456789F\""
      ]
     },
     "execution_count": 48,
     "metadata": {},
     "output_type": "execute_result"
    }
   ],
   "source": [
    "# 最初の3文字を\\1、次の1文字を\\2、残りの数値列を\\3として参照する\n",
    "# それを並び替えることで、`F`を末尾に移動している\n",
    "replace(\"XYZF0123456789\",r\"([A-Z][A-Z][A-Z])(.)([0-9]*)\",s\"\\1\\3\\2\")"
   ]
  },
  {
   "cell_type": "markdown",
   "metadata": {
    "deletable": true,
    "editable": true
   },
   "source": [
    "上の例はPythonスタイルの正規表現で書き直すことができる。\n",
    "この場合、正規表現内でのちほど参照したい部分を `(?)` でくくり、その中に適当なラベルを `<>` で指定する。\n",
    "次に、置換文字列を `s\"\"` で定義し、その中で前述のラベルを `\\g<>` で参照する。\n",
    "前述のように `\\1` のような表記も利用できる。\n",
    "上の例と全く同じ例を、Pythonスタイルで書き直す。"
   ]
  },
  {
   "cell_type": "code",
   "execution_count": 49,
   "metadata": {
    "collapsed": false,
    "deletable": true,
    "editable": true
   },
   "outputs": [
    {
     "data": {
      "text/plain": [
       "\"XYZ0123456789F\""
      ]
     },
     "execution_count": 49,
     "metadata": {},
     "output_type": "execute_result"
    }
   ],
   "source": [
    "# 最初の3文字にはcode、次の1文字にはcategory、最後の数値列にはnumberというラベルをつける\n",
    "# 参照する場合には、各ラベルを \\g<> で指定する\n",
    "replace(\"XYZF0123456789\",\n",
    "        r\"(?<code>[A-Z][A-Z][A-Z])(?<category>.)(?<number>[0-9]*)\",\n",
    "        s\"\\g<code>\\g<number>\\g<category>\")"
   ]
  }
 ],
 "metadata": {
  "kernelspec": {
   "display_name": "Julia 0.6.2",
   "language": "julia",
   "name": "julia-0.6"
  },
  "language_info": {
   "file_extension": ".jl",
   "mimetype": "application/julia",
   "name": "julia",
   "version": "0.6.2"
  }
 },
 "nbformat": 4,
 "nbformat_minor": 2
}
